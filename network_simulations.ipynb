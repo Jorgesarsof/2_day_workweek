{
 "cells": [
  {
   "cell_type": "code",
   "execution_count": 192,
   "metadata": {},
   "outputs": [],
   "source": [
    "%matplotlib inline\n",
    "\n",
    "import os\n",
    "import pandas as pd\n",
    "import tqdm\n",
    "import networkx as nx\n",
    "\n",
    "from scipy import interpolate\n",
    "from scipy.stats import erlang\n",
    "from scipy.integrate import odeint\n",
    "\n",
    "import numpy as np\n",
    "import pandas as pd\n",
    "\n",
    "import matplotlib.pyplot as plt\n",
    "from matplotlib import ticker\n",
    "from matplotlib import cm\n",
    "from sklearn.linear_model import LinearRegression\n",
    "import pickle\n",
    "\n",
    "def init_fig(aspect=(4,4),fontsize=12):\n",
    "    plt.rc('font', family='serif')\n",
    "    plt.rc('xtick', labelsize=fontsize)\n",
    "    plt.rc('ytick', labelsize=fontsize)\n",
    "    plt.rc('figure', titlesize=fontsize)\n",
    "    plt.rc('axes', labelsize=fontsize)\n",
    "    plt.rc('axes', titlesize=fontsize)\n",
    "    params = {'legend.fontsize': 'larger',\n",
    "              'legend.handlelength': 2}\n",
    "    plt.rcParams.update(params)\n",
    "\n",
    "    fig = plt.figure(figsize=aspect)\n",
    "    ax = fig.add_subplot(1, 1, 1)\n",
    "    return ax,fig\n",
    "\n",
    "\n"
   ]
  },
  {
   "cell_type": "code",
   "execution_count": 4,
   "metadata": {},
   "outputs": [],
   "source": [
    "def graph_run(G,config,period=14,lockdown=4,tmax=30*4,INIT_NUM=50,LOCKDOWN_RESCALING=1,DAY_RES=4):\n",
    "    \n",
    "    dt = 1/DAY_RES\n",
    "    ERLANG_SHAPE = 2\n",
    "    weight_attr='weight_const'\n",
    "    \n",
    "    E = set([list(G.nodes())[i] for i in np.random.choice(range(len(list(G.nodes()))),int(INIT_NUM/2))])\n",
    "    S = set(list(G.nodes())).difference(E)\n",
    "    I = set([list(S)[i] for i in np.random.choice(range(len(list(S))),int(INIT_NUM/2))])\n",
    "    S = S.difference(I)\n",
    "    R = set()\n",
    "    \n",
    "    EXPOSE_TIME = dict()\n",
    "    INFECT_TIME = dict()\n",
    "    \n",
    "    infected_map = dict([(i,[]) for i in G.nodes()])\n",
    "    infected_times = dict()\n",
    "    \n",
    "    for e in E:\n",
    "        EXPOSE_TIME[e] = -1+erlang.rvs(a=ERLANG_SHAPE,scale=config[\"Tinc\"]/ERLANG_SHAPE)\n",
    "    \n",
    "    for i in I:\n",
    "        INFECT_TIME[i] = -1+erlang.rvs(a=ERLANG_SHAPE,scale=config[\"Tinf\"]/ERLANG_SHAPE)\n",
    "        infected_times[i] = -1\n",
    "    \n",
    "    sol=[]\n",
    "    for day in np.linspace(1,tmax,tmax*DAY_RES):\n",
    "        sol.append(np.array([len(x) for x in (S,E,I,R)]))\n",
    "        \n",
    "        I_new = set()\n",
    "        E_new = set()\n",
    "        R_new = set()\n",
    "        \n",
    "        # new infecting\n",
    "        for e in E:\n",
    "            if EXPOSE_TIME[e]-day <= 0:\n",
    "                I_new.add(e)\n",
    "                infected_times[e] = day\n",
    "                INFECT_TIME[e] = day + erlang.rvs(a=ERLANG_SHAPE,scale=config[\"Tinf\"]/ERLANG_SHAPE)\n",
    "                \n",
    "        for i in I:\n",
    "            in_isolation = (((day%period) < lockdown))\n",
    "            \n",
    "            # new exposed \n",
    "            for neighbor in G.neighbors(i):\n",
    "                if in_isolation and not G.get_edge_data(i,neighbor)['lockdown_neighbor']:\n",
    "                    continue\n",
    "                \n",
    "                if neighbor in S:\n",
    "                    infection_rate = G.get_edge_data(i,neighbor)[weight_attr]\n",
    "                    if in_isolation:\n",
    "                        infection_rate *= LOCKDOWN_RESCALING\n",
    "                    if np.random.rand() < dt*infection_rate:\n",
    "                        # infect\n",
    "                        E_new.add(neighbor)\n",
    "                        infected_map[i].append({\"n\" : neighbor, \"t\" : day})\n",
    "                        EXPOSE_TIME[neighbor] = day + erlang.rvs(a=ERLANG_SHAPE,scale=config[\"Tinc\"]/ERLANG_SHAPE)\n",
    "            # new recovered\n",
    "            if INFECT_TIME[i]-day <=0:\n",
    "                R_new.add(i)\n",
    "\n",
    "                \n",
    "        S = S.difference(E_new)\n",
    "        E = E.union(E_new).difference(I_new)\n",
    "        I = I.union(I_new).difference(R_new)\n",
    "        R = R.union(R_new)\n",
    "    \n",
    "        \n",
    "    sol.append(np.array([len(x) for x in (S,E,I,R)]))\n",
    "    #[infected_map.pop(i) for i in list(infected_map.keys()) if i not in R] \n",
    "    df = pd.DataFrame([({\"node\": i,\n",
    "                         \"infections\" : len(infected_map[i]),\n",
    "                         \"infected\" : infected_times[i] if i in infected_times.keys() else np.NaN,\n",
    "                         'recovered' : i in R}) for i in infected_map.keys()]).set_index('node')\n",
    "    \n",
    "    sol = sol[::DAY_RES]\n",
    "    return np.array(sol),df\n",
    "\n",
    "def lognormal_adj(sigma,size):\n",
    "    return np.random.lognormal(0,sigma,size=size)/np.exp((sigma**2)/2)\n",
    "\n",
    "\n",
    "def load_small_world_graph(config,N = 2000,Rw=1.5,Rl=0.6):\n",
    "    k = config[\"k\"]\n",
    "    beta=1-Rl/Rw\n",
    "    G = nx.watts_strogatz_graph(N,k,beta)\n",
    "    \n",
    "    attrs = dict()\n",
    "    tot_edges = len(G.edges())\n",
    "    tot_nodes = len(G.nodes())\n",
    "    \n",
    "    \n",
    "    edge_scalars=lognormal_adj(config[\"edge_sigma\"],tot_edges)\n",
    "    node_scalars=lognormal_adj(config[\"node_sigma\"],tot_nodes)\n",
    "    \n",
    "    for edge,edge_scale in zip(G.edges(),edge_scalars):\n",
    "        attrs[edge] = {\"weight_const\" : node_scalars[edge[0]]*edge_scale*Rw/(k*config[\"Tinf\"]),\n",
    "                       \"lockdown_neighbor\" : np.abs(edge[0]-edge[1]) <= k/2}\n",
    "    nx.set_edge_attributes(G,attrs)    \n",
    "    \n",
    "    return G"
   ]
  },
  {
   "cell_type": "code",
   "execution_count": 159,
   "metadata": {},
   "outputs": [],
   "source": [
    "def estimate_Re_percenteighty(config,T_relevant,Rw,Rl,period,lockdown,iterations=100):\n",
    "    def record_infection_first_T_days(T):\n",
    "        G = load_small_world_graph(config,Rw=Rw,Rl=Rl)\n",
    "        sol,infection_log=graph_run(G,config,period=period,lockdown=lockdown,INIT_NUM=50,tmax=T+15,LOCKDOWN_RESCALING=1)\n",
    "        infection_log=infection_log[infection_log.recovered]\n",
    "        return infection_log[(infection_log.infected > -1) & (infection_log.infected < T-1)].infections\n",
    "\n",
    "    infections=pd.concat([record_infection_first_T_days(T_relevant) for i in range(iterations)])\n",
    "    percent_eighty = np.abs(((infections.sort_values().cumsum()[::-1] / infections.sum())-.2).values).argmin() / infections.shape[0]\n",
    "    Re=infections.mean()\n",
    "    return Re,percent_eighty\n"
   ]
  },
  {
   "cell_type": "code",
   "execution_count": 220,
   "metadata": {},
   "outputs": [],
   "source": [
    "@np.vectorize\n",
    "def k_sensitivity(k):\n",
    "    print(k)\n",
    "    config = {'Tinc': 3,'Tinf': 4,\"edge_sigma\" : 0,\"node_sigma\" : 0,\"k\" : int(k)}\n",
    "    Re,_ = estimate_Re_percenteighty(config,T_relevant=14,Rw=1.5,Rl=0.6,period=14,lockdown=10,iterations=250)\n",
    "    return Re"
   ]
  },
  {
   "cell_type": "code",
   "execution_count": 225,
   "metadata": {},
   "outputs": [
    {
     "name": "stdout",
     "output_type": "stream",
     "text": [
      "20.0\n",
      "20.0\n",
      "60.0\n",
      "100.0\n"
     ]
    }
   ],
   "source": [
    "kvals = np.linspace(20,100,3)\n",
    "out = k_sensitivity(kvals)"
   ]
  },
  {
   "cell_type": "code",
   "execution_count": 228,
   "metadata": {},
   "outputs": [],
   "source": [
    "config = {'Tinc': 3,'Tinf': 4,\"edge_sigma\" : 0,\"node_sigma\" : 0,\"k\" : 50}\n",
    "Re,_ = estimate_Re_percenteighty(config,T_relevant=14,Rw=1.5,Rl=0.6,period=14,lockdown=10,iterations=250)\n"
   ]
  },
  {
   "cell_type": "code",
   "execution_count": 229,
   "metadata": {},
   "outputs": [
    {
     "data": {
      "image/png": "[encoded data removed]",
      "text/plain": [
       "<Figure size 288x288 with 1 Axes>"
      ]
     },
     "metadata": {
      "needs_background": "light"
     },
     "output_type": "display_data"
    }
   ],
   "source": [
    "tck=interpolate.splrep(kvals, out, s=1,k=2)\n",
    "xnew=np.linspace(kvals.min(),kvals.max(),100)\n",
    "ynew = interpolate.splev(xnew, tck, der=0)\n",
    "\n",
    "ax,fig=init_fig(aspect=(4,4))\n",
    "ax.plot(kvals,out)\n",
    "#plt.plot(xnew,ynew)\n",
    "ax.set_ylabel(\"$R_e$\")\n",
    "ax.set_xlabel(\"mean degree (C)\")\n",
    "ax.set_ylim((.7,1))\n",
    "plt.tight_layout()\n",
    "plt.savefig(os.path.join(BASE_DIR,\"plots\",\"sensitivity_degree.pdf\"))"
   ]
  },
  {
   "cell_type": "code",
   "execution_count": 234,
   "metadata": {},
   "outputs": [],
   "source": [
    "def run_over_sigmas(pars,iterations=500):\n",
    "    out = []\n",
    "    for sigma,for_node,Rw,Rl in pars:\n",
    "        print(sigma)\n",
    "        edge_sigma,node_sigma = (0,sigma) if for_node else (sigma,0)\n",
    "        config = {'Tinc': 3,'Tinf': 4,\"node_sigma\" :node_sigma,\"edge_sigma\" : edge_sigma,\"k\" : 50}\n",
    "        mu_,sigma_=np.exp((sigma**2)/2),np.sqrt((np.exp((sigma**2))-1)*np.exp((sigma**2)))\n",
    "        cv = sigma_/mu_\n",
    "        print(config)\n",
    "        Re,pe = estimate_Re_percenteighty(config,T_relevant=14,Rw=Rw,Rl=Rl,period=14,lockdown=10,iterations=iterations)\n",
    "        out.append([cv,Re,pe])\n",
    "\n",
    "    out = np.array(out)\n",
    "    return out"
   ]
  },
  {
   "cell_type": "code",
   "execution_count": 235,
   "metadata": {},
   "outputs": [],
   "source": [
    "def gen_dist_plot(out,nodes=\"\",label=\"\"):\n",
    "    tck=interpolate.splrep(out[:,0], out[:,1], s=1,k=2)\n",
    "    xnew = np.linspace(out[:,0].min(),out[:,0].max(), 100)\n",
    "    ynew = interpolate.splev(xnew, tck, der=0)\n",
    "\n",
    "    ax,fig=init_fig(aspect=(4,4))\n",
    "    ax.plot(out[:,0],out[:,1])\n",
    "    ax.set_ylabel(\"$R_e$\")\n",
    "    ax.set_xlabel(label)\n",
    "    ax.set_ylim((.7,1))\n",
    "    plt.tight_layout()\n",
    "    plt.savefig(os.path.join(BASE_DIR,\"plots\",\"sensitivity_dist_lognormal_{nodes}.pdf\".format(nodes=nodes)))\n",
    "    \n",
    "    ax,fig=init_fig(aspect=(3,2),fontsize=14)\n",
    "    ax.plot(out[:,0],100*out[:,2])\n",
    "    ax.set_ylabel(\"percent\")\n",
    "    ax.set_title(\"resp. for 80% infections\")\n",
    "    ax.set_xlabel(label)\n",
    "    ax.set_ylim((10,40))\n",
    "    fig.tight_layout()\n",
    "    plt.savefig(os.path.join(BASE_DIR,\"plots\",\"sensitivity_dist_lognormal_{nodes}_eighty.pdf\".format(nodes=nodes)))\n",
    "    #plt.yscale('log')"
   ]
  },
  {
   "cell_type": "code",
   "execution_count": 240,
   "metadata": {},
   "outputs": [
    {
     "name": "stdout",
     "output_type": "stream",
     "text": [
      "0\n",
      "{'Tinc': 3, 'Tinf': 4, 'node_sigma': 0, 'edge_sigma': 0, 'k': 50}\n",
      "1\n",
      "{'Tinc': 3, 'Tinf': 4, 'node_sigma': 1, 'edge_sigma': 0, 'k': 50}\n",
      "2\n",
      "{'Tinc': 3, 'Tinf': 4, 'node_sigma': 2, 'edge_sigma': 0, 'k': 50}\n"
     ]
    }
   ],
   "source": [
    "out = run_over_sigmas(((0,True,1.5,0.6),(1,True,1.355,.54),(2,True,1.1,.43)))"
   ]
  },
  {
   "cell_type": "code",
   "execution_count": 242,
   "metadata": {},
   "outputs": [
    {
     "data": {
      "image/png": "[encoded data removed]",
      "text/plain": [
       "<Figure size 288x288 with 1 Axes>"
      ]
     },
     "metadata": {
      "needs_background": "light"
     },
     "output_type": "display_data"
    },
    {
     "data": {
      "image/png": "[encoded data removed]",
      "text/plain": [
       "<Figure size 216x144 with 1 Axes>"
      ]
     },
     "metadata": {
      "needs_background": "light"
     },
     "output_type": "display_data"
    }
   ],
   "source": [
    "gen_dist_plot(out,\"nodes\",\"CV for node infection rate\")"
   ]
  },
  {
   "cell_type": "code",
   "execution_count": 236,
   "metadata": {},
   "outputs": [
    {
     "name": "stdout",
     "output_type": "stream",
     "text": [
      "0\n",
      "{'Tinc': 3, 'Tinf': 4, 'node_sigma': 0, 'edge_sigma': 0, 'k': 50}\n",
      "1\n",
      "{'Tinc': 3, 'Tinf': 4, 'node_sigma': 0, 'edge_sigma': 1, 'k': 50}\n",
      "2\n",
      "{'Tinc': 3, 'Tinf': 4, 'node_sigma': 0, 'edge_sigma': 2, 'k': 50}\n"
     ]
    }
   ],
   "source": [
    "out = run_over_sigmas(((0,False,1.5,0.6),(1,False,1.6,.6),(2,False,2.2,.74)))"
   ]
  },
  {
   "cell_type": "code",
   "execution_count": 239,
   "metadata": {},
   "outputs": [
    {
     "data": {
      "image/png": "[encoded data removed]",
      "text/plain": [
       "<Figure size 288x288 with 1 Axes>"
      ]
     },
     "metadata": {
      "needs_background": "light"
     },
     "output_type": "display_data"
    },
    {
     "data": {
      "image/png": "[encoded data removed]",
      "text/plain": [
       "<Figure size 216x144 with 1 Axes>"
      ]
     },
     "metadata": {
      "needs_background": "light"
     },
     "output_type": "display_data"
    }
   ],
   "source": [
    "gen_dist_plot(out,\"\",\"CV for node infection rate\")"
   ]
  },
  {
   "cell_type": "code",
   "execution_count": null,
   "metadata": {},
   "outputs": [],
   "source": []
  }
 ],
 "metadata": {
  "kernelspec": {
   "display_name": "Python 3",
   "language": "python",
   "name": "python3"
  },
  "language_info": {
   "codemirror_mode": {
    "name": "ipython",
    "version": 3
   },
   "file_extension": ".py",
   "mimetype": "text/x-python",
   "name": "python",
   "nbconvert_exporter": "python",
   "pygments_lexer": "ipython3",
   "version": "3.7.3"
  }
 },
 "nbformat": 4,
 "nbformat_minor": 2
}
